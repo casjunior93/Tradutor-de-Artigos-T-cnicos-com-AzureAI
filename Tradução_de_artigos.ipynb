{
  "nbformat": 4,
  "nbformat_minor": 0,
  "metadata": {
    "colab": {
      "provenance": [],
      "authorship_tag": "ABX9TyObCmwSby4quSFWVe2zsqvL",
      "include_colab_link": true
    },
    "kernelspec": {
      "name": "python3",
      "display_name": "Python 3"
    },
    "language_info": {
      "name": "python"
    }
  },
  "cells": [
    {
      "cell_type": "markdown",
      "metadata": {
        "id": "view-in-github",
        "colab_type": "text"
      },
      "source": [
        "<a href=\"https://colab.research.google.com/github/casjunior93/Tradutor-de-Artigos-Tecnicos-com-AzureAI/blob/main/Tradu%C3%A7%C3%A3o_de_artigos.ipynb\" target=\"_parent\"><img src=\"https://colab.research.google.com/assets/colab-badge.svg\" alt=\"Open In Colab\"/></a>"
      ]
    },
    {
      "cell_type": "markdown",
      "source": [
        "# Tradução de artigos"
      ],
      "metadata": {
        "id": "ZIRgnB0pKdsf"
      }
    },
    {
      "cell_type": "markdown",
      "source": [
        "Desafio de projeto \"Tradutor de Artigos Técnicos com AzureAI\" da DIO. Faz parte do bootcamp \"\" da DIO em parceria com a Microsoft."
      ],
      "metadata": {
        "id": "DKb17itHKhzD"
      }
    },
    {
      "cell_type": "markdown",
      "source": [
        "## Instalando bibliotecas"
      ],
      "metadata": {
        "id": "5WVCs55RKxSY"
      }
    },
    {
      "cell_type": "markdown",
      "source": [
        "Bibliotecas de requisições HTTP e leitura de documentos docx."
      ],
      "metadata": {
        "id": "gcP-zCvuK7CR"
      }
    },
    {
      "cell_type": "code",
      "execution_count": 1,
      "metadata": {
        "colab": {
          "base_uri": "https://localhost:8080/"
        },
        "collapsed": true,
        "id": "yYtozl6-EBX3",
        "outputId": "4318fc8f-75e5-49ff-d293-eded8f34f6cb"
      },
      "outputs": [
        {
          "output_type": "stream",
          "name": "stdout",
          "text": [
            "Requirement already satisfied: requests in /usr/local/lib/python3.10/dist-packages (2.32.3)\n",
            "Requirement already satisfied: python-docx in /usr/local/lib/python3.10/dist-packages (1.1.2)\n",
            "Requirement already satisfied: charset-normalizer<4,>=2 in /usr/local/lib/python3.10/dist-packages (from requests) (3.4.0)\n",
            "Requirement already satisfied: idna<4,>=2.5 in /usr/local/lib/python3.10/dist-packages (from requests) (3.10)\n",
            "Requirement already satisfied: urllib3<3,>=1.21.1 in /usr/local/lib/python3.10/dist-packages (from requests) (2.2.3)\n",
            "Requirement already satisfied: certifi>=2017.4.17 in /usr/local/lib/python3.10/dist-packages (from requests) (2024.8.30)\n",
            "Requirement already satisfied: lxml>=3.1.0 in /usr/local/lib/python3.10/dist-packages (from python-docx) (5.3.0)\n",
            "Requirement already satisfied: typing-extensions>=4.9.0 in /usr/local/lib/python3.10/dist-packages (from python-docx) (4.12.2)\n"
          ]
        }
      ],
      "source": [
        "!pip install requests python-docx"
      ]
    },
    {
      "cell_type": "markdown",
      "source": [
        "Importando bilbiotecas"
      ],
      "metadata": {
        "id": "sCcaZuo0LHQh"
      }
    },
    {
      "cell_type": "code",
      "source": [
        "import requests, uuid, json\n",
        "from docx import Document"
      ],
      "metadata": {
        "id": "_4qH-sKBK2ps"
      },
      "execution_count": 2,
      "outputs": []
    },
    {
      "cell_type": "markdown",
      "source": [
        "## Chaves do tradutor"
      ],
      "metadata": {
        "id": "kjyq57-CLWvz"
      }
    },
    {
      "cell_type": "code",
      "source": [
        "CHAVE_API = \"*****************************************************************\"\n",
        "URL_TRADUTOR = \"https://api.cognitive.microsofttranslator.com/\"\n",
        "REGIAO = \"eastus2\"\n",
        "TARGET_LANGUAGE = \"pt-br\""
      ],
      "metadata": {
        "id": "-8QuCDKbLdMA"
      },
      "execution_count": 3,
      "outputs": []
    },
    {
      "cell_type": "markdown",
      "source": [
        "## Funções de ajuda"
      ],
      "metadata": {
        "id": "quPeqLAnMu8Y"
      }
    },
    {
      "cell_type": "code",
      "source": [
        "# Tradução de texto\n",
        "def traduzir_texto(texto, linguagem_objetivo):\n",
        "  path = '/translate'\n",
        "  constructed_url = URL_TRADUTOR + path\n",
        "\n",
        "  params = {\n",
        "    'api-version': '3.0',\n",
        "    'from': 'en',\n",
        "    'to': linguagem_objetivo #['fr', 'zu']\n",
        "  }\n",
        "\n",
        "  headers = {\n",
        "    'Ocp-Apim-Subscription-Key': CHAVE_API,\n",
        "    'Ocp-Apim-Subscription-Region': REGIAO,\n",
        "    'Content-type': 'application/json',\n",
        "    'X-ClientTraceId': str(uuid.uuid4())\n",
        "  }\n",
        "\n",
        "  body = [{\"text\": texto}]\n",
        "\n",
        "  request = requests.post(constructed_url, params=params, headers=headers, json=body)\n",
        "  response = request.json()\n",
        "\n",
        "  return response[0]['translations'][0]['text']\n",
        "\n",
        "# Tradução de documento\n",
        "def traduzir_documento(path, linguagem_objetivo, imprimir = True):\n",
        "  documento = Document(path)\n",
        "  texto_traduzido_string = ''\n",
        "  texto_traduzido_lista = []\n",
        "\n",
        "  for paragrafo in documento.paragraphs:\n",
        "    texto_traduzido = traduzir_texto(paragrafo.text, linguagem_objetivo)\n",
        "    texto_traduzido_string += texto_traduzido + '\\n'\n",
        "    texto_traduzido_lista.append(texto_traduzido)\n",
        "\n",
        "  if imprimir:\n",
        "    print(f'Tradução: {texto_traduzido_string}')\n",
        "\n",
        "  documento_traduzido = Document()\n",
        "\n",
        "  for linha in texto_traduzido_lista:\n",
        "    documento_traduzido.add_paragraph(linha)\n",
        "\n",
        "  path_traduzido = path.replace('.docx', f'_{linguagem_objetivo}.docx')\n",
        "  print(f'Arquivo criado: {path_traduzido}')\n",
        "  documento_traduzido.save(path_traduzido)"
      ],
      "metadata": {
        "id": "vbxKUMVsNX1V"
      },
      "execution_count": 4,
      "outputs": []
    },
    {
      "cell_type": "code",
      "source": [
        "print(traduzir_texto('HI!', 'pt-br'))"
      ],
      "metadata": {
        "colab": {
          "base_uri": "https://localhost:8080/"
        },
        "id": "zy7w9acIT1Mj",
        "outputId": "8f37b5d2-ffeb-4ecd-c80d-26867982e7ba"
      },
      "execution_count": 5,
      "outputs": [
        {
          "output_type": "stream",
          "name": "stdout",
          "text": [
            "OI!\n"
          ]
        }
      ]
    },
    {
      "cell_type": "markdown",
      "source": [
        "## Criando um artigo em inglês usando o Gemini integrado ao Colab"
      ],
      "metadata": {
        "id": "udNuAdbCa0dX"
      }
    },
    {
      "cell_type": "markdown",
      "source": [
        "Prompt: Crie um artigo básico em inglês sobre como configurar um roteador. Deve ter no máximo 5 parágrafos."
      ],
      "metadata": {
        "id": "lc7D4jmZbAhO"
      }
    },
    {
      "cell_type": "code",
      "source": [
        "artigo_criado = \"\"\"Configuring a router is the first step towards establishing a working internet connection and creating a secure network for your devices. While the process may seem daunting, it is actually quite straightforward with a few simple steps.\n",
        "\n",
        "Start by connecting your router to your modem using an Ethernet cable. This creates the physical link between your router and the internet source. Next, connect your computer to the router either wirelessly using the router's default Wi-Fi network or with an Ethernet cable connected to one of the router's LAN ports. Once these physical connections are made, power on both your modem and your router.\n",
        "\n",
        "Now, open a web browser on your computer and enter the router's default IP address into the address bar. This address, along with the default username and password, are usually found on a sticker located on the router or in its instruction manual. After entering the IP address, you'll be prompted to log in using these credentials.\n",
        "\n",
        "Upon successful login, you'll be presented with the router's setup wizard or configuration page. This is where you will personalize your network and security settings. You'll need to enter information provided by your Internet Service Provider (ISP) such as the connection type and any necessary account details. Then, create a memorable name and a strong password for your Wi-Fi network. Make sure to enable security encryption to protect your data.\n",
        "\n",
        "Finally, explore other available options, such as firewall settings and guest network features, to enhance your network's security and usability. Once you have finished configuring the desired settings, save the changes and reboot the router for them to take effect. Now you can enjoy the convenience and security of your personalized network!\"\"\""
      ],
      "metadata": {
        "id": "2NeLsAsVVnsP"
      },
      "execution_count": 6,
      "outputs": []
    },
    {
      "cell_type": "markdown",
      "source": [
        "Salvando em documento docx"
      ],
      "metadata": {
        "id": "kQ5U5XzfcJeU"
      }
    },
    {
      "cell_type": "code",
      "source": [
        "documento_ingles = Document()\n",
        "\n",
        "for paragrafo in artigo_criado.split('\\n\\n'):\n",
        "  documento_ingles.add_paragraph(paragrafo)\n",
        "\n",
        "documento_ingles.add_paragraph(artigo_criado)\n",
        "documento_ingles.save('artigo_ingles.docx')"
      ],
      "metadata": {
        "id": "DfsE50ohcIYq"
      },
      "execution_count": 7,
      "outputs": []
    },
    {
      "cell_type": "markdown",
      "source": [
        "## Testando o tradutor de documento"
      ],
      "metadata": {
        "id": "bwCYUFS7cdV2"
      }
    },
    {
      "cell_type": "code",
      "source": [
        "traduzir_documento('artigo_ingles.docx', 'pt-br')"
      ],
      "metadata": {
        "colab": {
          "base_uri": "https://localhost:8080/"
        },
        "id": "5jcqBydrcY1N",
        "outputId": "735a14db-161d-491a-d520-fc5795fadfbe"
      },
      "execution_count": 8,
      "outputs": [
        {
          "output_type": "stream",
          "name": "stdout",
          "text": [
            "Tradução: Configurar um roteador é o primeiro passo para estabelecer uma conexão de internet funcional e criar uma rede segura para seus dispositivos. Embora o processo possa parecer assustador, na verdade é bastante simples com algumas etapas simples.\n",
            "Comece conectando seu roteador ao modem usando um cabo Ethernet. Isso cria o link físico entre o roteador e a fonte da Internet. Em seguida, conecte seu computador ao roteador sem fio usando a rede Wi-Fi padrão do roteador ou com um cabo Ethernet conectado a uma das portas LAN do roteador. Depois que essas conexões físicas forem feitas, ligue o modem e o roteador.\n",
            "Agora, abra um navegador da Web em seu computador e digite o endereço IP padrão do roteador na barra de endereços. Esse endereço, juntamente com o nome de usuário e a senha padrão, geralmente são encontrados em um adesivo localizado no roteador ou em seu manual de instruções. Depois de inserir o endereço IP, você será solicitado a fazer login usando essas credenciais.\n",
            "Após o login bem-sucedido, você verá o assistente de configuração ou a página de configuração do roteador. É aqui que você personalizará suas configurações de rede e segurança. Você precisará inserir as informações fornecidas pelo seu provedor de serviços de Internet (ISP), como o tipo de conexão e os detalhes necessários da conta. Em seguida, crie um nome memorável e uma senha forte para sua rede Wi-Fi. Certifique-se de habilitar a criptografia de segurança para proteger seus dados.\n",
            "Por fim, explore outras opções disponíveis, como configurações de firewall e recursos de rede de convidados, para aprimorar a segurança e a usabilidade da sua rede. Depois de terminar de definir as configurações desejadas, salve as alterações e reinicie o roteador para que elas entrem em vigor. Agora você pode desfrutar da conveniência e segurança de sua rede personalizada!\n",
            "Configurar um roteador é o primeiro passo para estabelecer uma conexão de internet funcional e criar uma rede segura para seus dispositivos. Embora o processo possa parecer assustador, na verdade é bastante simples com algumas etapas simples.\n",
            "\n",
            "Comece conectando seu roteador ao modem usando um cabo Ethernet. Isso cria o link físico entre o roteador e a fonte da Internet. Em seguida, conecte seu computador ao roteador sem fio usando a rede Wi-Fi padrão do roteador ou com um cabo Ethernet conectado a uma das portas LAN do roteador. Depois que essas conexões físicas forem feitas, ligue o modem e o roteador.\n",
            "\n",
            "Agora, abra um navegador da Web em seu computador e digite o endereço IP padrão do roteador na barra de endereços. Esse endereço, juntamente com o nome de usuário e a senha padrão, geralmente são encontrados em um adesivo localizado no roteador ou em seu manual de instruções. Depois de inserir o endereço IP, você será solicitado a fazer login usando essas credenciais.\n",
            "\n",
            "Após o login bem-sucedido, você verá o assistente de configuração ou a página de configuração do roteador. É aqui que você personalizará suas configurações de rede e segurança. Você precisará inserir as informações fornecidas pelo seu provedor de serviços de Internet (ISP), como o tipo de conexão e os detalhes necessários da conta. Em seguida, crie um nome memorável e uma senha forte para sua rede Wi-Fi. Certifique-se de habilitar a criptografia de segurança para proteger seus dados.\n",
            "\n",
            "Por fim, explore outras opções disponíveis, como configurações de firewall e recursos de rede de convidados, para aprimorar a segurança e a usabilidade da sua rede. Depois de terminar de definir as configurações desejadas, salve as alterações e reinicie o roteador para que elas entrem em vigor. Agora você pode desfrutar da conveniência e segurança de sua rede personalizada!\n",
            "\n",
            "Arquivo criado: artigo_ingles_pt-br.docx\n"
          ]
        }
      ]
    },
    {
      "cell_type": "markdown",
      "source": [
        "# Testando a aplicação"
      ],
      "metadata": {
        "id": "HQlO3ZVXgu1z"
      }
    },
    {
      "cell_type": "markdown",
      "source": [
        "## Instalando bibliotecas"
      ],
      "metadata": {
        "id": "mmCg3tGhgzy9"
      }
    },
    {
      "cell_type": "code",
      "source": [
        "!pip install openai beautifulsoup4 langchain-openai"
      ],
      "metadata": {
        "colab": {
          "base_uri": "https://localhost:8080/"
        },
        "collapsed": true,
        "id": "LTYa2Zdxgwon",
        "outputId": "02fcb48c-b5a7-4951-d17a-a32e6ca6c5ee"
      },
      "execution_count": 9,
      "outputs": [
        {
          "output_type": "stream",
          "name": "stdout",
          "text": [
            "Requirement already satisfied: openai in /usr/local/lib/python3.10/dist-packages (1.54.4)\n",
            "Requirement already satisfied: beautifulsoup4 in /usr/local/lib/python3.10/dist-packages (4.12.3)\n",
            "Requirement already satisfied: langchain-openai in /usr/local/lib/python3.10/dist-packages (0.2.9)\n",
            "Requirement already satisfied: anyio<5,>=3.5.0 in /usr/local/lib/python3.10/dist-packages (from openai) (3.7.1)\n",
            "Requirement already satisfied: distro<2,>=1.7.0 in /usr/local/lib/python3.10/dist-packages (from openai) (1.9.0)\n",
            "Requirement already satisfied: httpx<1,>=0.23.0 in /usr/local/lib/python3.10/dist-packages (from openai) (0.27.2)\n",
            "Requirement already satisfied: jiter<1,>=0.4.0 in /usr/local/lib/python3.10/dist-packages (from openai) (0.7.1)\n",
            "Requirement already satisfied: pydantic<3,>=1.9.0 in /usr/local/lib/python3.10/dist-packages (from openai) (2.9.2)\n",
            "Requirement already satisfied: sniffio in /usr/local/lib/python3.10/dist-packages (from openai) (1.3.1)\n",
            "Requirement already satisfied: tqdm>4 in /usr/local/lib/python3.10/dist-packages (from openai) (4.66.6)\n",
            "Requirement already satisfied: typing-extensions<5,>=4.11 in /usr/local/lib/python3.10/dist-packages (from openai) (4.12.2)\n",
            "Requirement already satisfied: soupsieve>1.2 in /usr/local/lib/python3.10/dist-packages (from beautifulsoup4) (2.6)\n",
            "Requirement already satisfied: langchain-core<0.4.0,>=0.3.17 in /usr/local/lib/python3.10/dist-packages (from langchain-openai) (0.3.19)\n",
            "Requirement already satisfied: tiktoken<1,>=0.7 in /usr/local/lib/python3.10/dist-packages (from langchain-openai) (0.8.0)\n",
            "Requirement already satisfied: idna>=2.8 in /usr/local/lib/python3.10/dist-packages (from anyio<5,>=3.5.0->openai) (3.10)\n",
            "Requirement already satisfied: exceptiongroup in /usr/local/lib/python3.10/dist-packages (from anyio<5,>=3.5.0->openai) (1.2.2)\n",
            "Requirement already satisfied: certifi in /usr/local/lib/python3.10/dist-packages (from httpx<1,>=0.23.0->openai) (2024.8.30)\n",
            "Requirement already satisfied: httpcore==1.* in /usr/local/lib/python3.10/dist-packages (from httpx<1,>=0.23.0->openai) (1.0.7)\n",
            "Requirement already satisfied: h11<0.15,>=0.13 in /usr/local/lib/python3.10/dist-packages (from httpcore==1.*->httpx<1,>=0.23.0->openai) (0.14.0)\n",
            "Requirement already satisfied: PyYAML>=5.3 in /usr/local/lib/python3.10/dist-packages (from langchain-core<0.4.0,>=0.3.17->langchain-openai) (6.0.2)\n",
            "Requirement already satisfied: jsonpatch<2.0,>=1.33 in /usr/local/lib/python3.10/dist-packages (from langchain-core<0.4.0,>=0.3.17->langchain-openai) (1.33)\n",
            "Requirement already satisfied: langsmith<0.2.0,>=0.1.125 in /usr/local/lib/python3.10/dist-packages (from langchain-core<0.4.0,>=0.3.17->langchain-openai) (0.1.143)\n",
            "Requirement already satisfied: packaging<25,>=23.2 in /usr/local/lib/python3.10/dist-packages (from langchain-core<0.4.0,>=0.3.17->langchain-openai) (24.2)\n",
            "Requirement already satisfied: tenacity!=8.4.0,<10.0.0,>=8.1.0 in /usr/local/lib/python3.10/dist-packages (from langchain-core<0.4.0,>=0.3.17->langchain-openai) (9.0.0)\n",
            "Requirement already satisfied: annotated-types>=0.6.0 in /usr/local/lib/python3.10/dist-packages (from pydantic<3,>=1.9.0->openai) (0.7.0)\n",
            "Requirement already satisfied: pydantic-core==2.23.4 in /usr/local/lib/python3.10/dist-packages (from pydantic<3,>=1.9.0->openai) (2.23.4)\n",
            "Requirement already satisfied: regex>=2022.1.18 in /usr/local/lib/python3.10/dist-packages (from tiktoken<1,>=0.7->langchain-openai) (2024.9.11)\n",
            "Requirement already satisfied: requests>=2.26.0 in /usr/local/lib/python3.10/dist-packages (from tiktoken<1,>=0.7->langchain-openai) (2.32.3)\n",
            "Requirement already satisfied: jsonpointer>=1.9 in /usr/local/lib/python3.10/dist-packages (from jsonpatch<2.0,>=1.33->langchain-core<0.4.0,>=0.3.17->langchain-openai) (3.0.0)\n",
            "Requirement already satisfied: orjson<4.0.0,>=3.9.14 in /usr/local/lib/python3.10/dist-packages (from langsmith<0.2.0,>=0.1.125->langchain-core<0.4.0,>=0.3.17->langchain-openai) (3.10.11)\n",
            "Requirement already satisfied: requests-toolbelt<2.0.0,>=1.0.0 in /usr/local/lib/python3.10/dist-packages (from langsmith<0.2.0,>=0.1.125->langchain-core<0.4.0,>=0.3.17->langchain-openai) (1.0.0)\n",
            "Requirement already satisfied: charset-normalizer<4,>=2 in /usr/local/lib/python3.10/dist-packages (from requests>=2.26.0->tiktoken<1,>=0.7->langchain-openai) (3.4.0)\n",
            "Requirement already satisfied: urllib3<3,>=1.21.1 in /usr/local/lib/python3.10/dist-packages (from requests>=2.26.0->tiktoken<1,>=0.7->langchain-openai) (2.2.3)\n"
          ]
        }
      ]
    },
    {
      "cell_type": "code",
      "source": [
        "import openai\n",
        "from bs4 import BeautifulSoup"
      ],
      "metadata": {
        "id": "B25PE74ahqwU"
      },
      "execution_count": 10,
      "outputs": []
    },
    {
      "cell_type": "markdown",
      "source": [
        "## Funções de  ajuda"
      ],
      "metadata": {
        "id": "TU0-_qxfhHiI"
      }
    },
    {
      "cell_type": "code",
      "source": [
        "def extrair_texto_url(url):\n",
        "    response = requests.get(url)\n",
        "    if response.status_code != 200:\n",
        "        print(f'Erro ao acessar a URL: {response.status_code}')\n",
        "        return None\n",
        "\n",
        "    soup = BeautifulSoup(response.text, 'html.parser')\n",
        "\n",
        "    article_tag = soup.find('article')\n",
        "    if article_tag:\n",
        "        p_tags = article_tag.find_all('p')\n",
        "        texto = \"\"\n",
        "        for p_tag in p_tags:\n",
        "            texto += p_tag.get_text(separator=\" \") + \"\\n\"\n",
        "    else:\n",
        "        # Se a tag <article> não for encontrada, retorna None\n",
        "        return None\n",
        "\n",
        "    linhas = (linha.strip() for linha in texto.splitlines())\n",
        "    texto_limpo = '\\n'.join(linha for linha in linhas if linha)\n",
        "    return texto_limpo"
      ],
      "metadata": {
        "id": "3aY8nsJEsCQm"
      },
      "execution_count": 11,
      "outputs": []
    },
    {
      "cell_type": "code",
      "source": [
        "extrair_texto_url('https://dev.to/willvelida/building-your-network-in-the-cloud-a-beginners-guide-to-azure-virtual-networks-4h49')"
      ],
      "metadata": {
        "colab": {
          "base_uri": "https://localhost:8080/",
          "height": 140
        },
        "id": "Pe1GSmQHhkVG",
        "outputId": "bebdf89b-0eab-4bb7-d324-23dc3d0e05a0"
      },
      "execution_count": 12,
      "outputs": [
        {
          "output_type": "execute_result",
          "data": {
            "text/plain": [
              "\"Posted on  Apr 30, 2023\\nAs you look to move workloads to the cloud, it's important to have a secure and scalable network infrastructure that can support your applications. In Azure, this is where virtual networks come in.\\nVirtual networks (VNet for short) are the fundamental building block for your private network in Azure. They enable many types of Azure resources to communicate with each other, the internet and on-prem networks securely. You can also use VNets to filter and route network traffic.\\nIn this blog post, I'll start by talking about why we would use virtual networks and how we can plan our virtual networks to ensure they will support our architecture in Azure. I'll then show you how to create a basic virtual network using Bicep, before showing you how we can integrate Azure resources in a virtual network, using Azure Functions as an example.\\nLet's dive in!\\nAs I mentioned earlier, virtual networks enable Azure resources to communicate with other Azure resources, the internet and on-prem networks securely.\\nBy default, all of our resources within a VNet can communicate outbound to the internet. If we assign a public IP address or use a public Load balancer, we can communicate inbound to a resource.\\nSecurely communicating with other Azure resources can be achieved in the following ways:\\nWhen it comes to communicating with on-prem networks, we can use Point-to-site VPNs to establish a link between a virtual network and a single computer in our on-prem network; Site-to-site VPN, which establishes links between on-prem VPN devices and an Azure VPN Gateway deployed in the virtual network and Azure ExpressRoute, which establishes private connections (meaning that traffic does not go over the internet) between your on-prem network and Azure through ExpressRoute partners.\\nSubnets in virtual networks allows you to implement logicial divisions in your VNet, which improves security and makes your virtual network more manageable. Each subnet contains a range of IP address that fall within the address space of your virtual network, and it must be unique within that address space. You can't overlap the range of one subnet with other subnet IP address in the same VNet and the IP address space for a subnet must be specified by using CIDR notation.\\nAzure will reserve 5 IP addresses for each subnet (the first four addresses and the last address). Taking the IP address range of 192.168.1.0/24 as an example, these addresses will be reserved by Azure:\\nWe can filter traffic between subnets by using  Network Security Groups (NSGs) , which contain multiple inbound and outbound security rules that enable you to filter traffic to and from resources by IP addresses, port and protocol, and  Network Virtual appliances , which is a VM that performs a network function (such as a firewall).\\nYou can use custom route tables to control where traffic is routed to for each subnet, and border gateway protocols to propagate your on-prem BGP routes to your virtual networks in Azure.\\nIn the real world, you'll probably deploy various virtual networks to support your application workloads. This will require planning to ensure that your resources can connect with each other effectively and securely.\\nVirtual networks can be used in various different scenarios:\\nYou'll also need to consider what topology you'll need for your virtual network. There's a variety of different options which I'll save the details for in another blog post, but some options include:\\nI've deliberately left out copious amounts of details for the purposes of this article. It's important for me to stress that you'll need to give some careful consideration around planning your virtual networks to ensure that it suits the requirements of your architecture. That said, please take at the following resources when planning your virtual network:\\nIt's also importnant to plan your IP addresses in Azure. This will ensure that you don't overlap IP address space in Azure with on-prem locations, as this will create major contention issues.\\nYou can assign IP addresses to Azure resources to communicate with other resources in Azure, your on-prem network and the internet.\\nPublic IP address allow your resources in Azure to communicate with the internet. Private IP address enabloe communication within a VNet and your on-prem network. IP address can be statically or dynamically assigned and you can seperate these resources into different subnets.\\nAgain, I've kept this brief for simplicity. For more information, check out the following:\\nProvisioning a basic virtual network with a subnet in Bicep is pretty straightforward. Take a look at the following Bicep code:\\nHere, we have a resource for our virtual network that reserves a list of address blocks with the CIDR range of 10.0.0.0/16. We also have a subnet with an address prefix of 10.0.0.0/24. We can verify the address space of our VNet by looking in the portal:\\nWe can also verify that our subnet has been created successfully with the address space that we defined, along with the address range that the subnet has been allocated:\\nCreating a basic virtual network is simple enough, but it's better to illustrate an example of integrating a resource with our virtual network.\\nFor this, we'll deploy an Azure Function Premium plan and integrate with out virtual network. Take a look at the following:\\nThere's a lot going on here, so let's focus on the important stuff:\\nFor our subnet, we're injecting our Function app into our virtual network by delegating the  Microsoft.Web/serverFarms  service into our subnet. Subnet delegation enables us to designate a specific subnet for an Azure PaaS service that needs to be injected into the virtual network. When we do this, we allow that service to establish basic network configuration rules for that specific subnet which allow the service to work properly.\\nIn our network config resource, we use the subnet resource id to indicate that this is the subnet that our function app will join. We have to make sure that the subnet that we join the function app to already has the  Microsoft.Web/serverFarms  delegation defined first.\\nOur full Bicep template will deploy the following resources shown in the diagram below:\\nThere's a lot more we can do to secure our Azure Function resources (for example, putting private endpoints on our Storage account). But for now, this is good enough.\\nNow if we take a look at our subnet, we can see that the  Microsoft.Web/serverFarms  delegation has been applied.\\nLooking at our virtual network, we can see that our new function app is using the virtual network\\nWithin our function app, we can also verify that it's been integrated with our subnet, securing our outbound traffic.\\nIn this blog post, we talked about why we would use virtual networks and how we can plan our virtual networks to ensure they'll support our architecture in Azure. We finished by creating a basic virtual network using Bicep, and integrated an Azure function in it.\\nHopefully this has given you a gentle introduction into virtual networks in Azure, the different scenarios on how we would use virtual networks to support our applications and how we can plan our virtual networks.\\nAs always, if you have any questions, feel free to reach out to me on twitter  @willvelida\\nUntil next time, Happy coding! 🤓🖥️\\nTemplates let you quickly answer FAQs or store snippets for re-use.\\nAre you sure you want to hide this comment? It will become hidden in your post, but will still be visible via the comment's  permalink .\\nHide child comments as well\\nConfirm\\nFor further actions, you may consider blocking this person and/or  reporting abuse\""
            ],
            "application/vnd.google.colaboratory.intrinsic+json": {
              "type": "string"
            }
          },
          "metadata": {},
          "execution_count": 12
        }
      ]
    },
    {
      "cell_type": "markdown",
      "source": [
        "## Usando Langchain"
      ],
      "metadata": {
        "id": "1oIp3tjnjZW7"
      }
    },
    {
      "cell_type": "code",
      "source": [
        "from langchain_openai.chat_models.azure import AzureChatOpenAI"
      ],
      "metadata": {
        "id": "AXVPZMfghoOF"
      },
      "execution_count": 13,
      "outputs": []
    },
    {
      "cell_type": "code",
      "source": [
        "client_azure_openai = AzureChatOpenAI(\n",
        "    azure_endpoint = \"https://dio-openai-eastus.openai.azure.com/\",\n",
        "    api_key = \"*****************************************************************************\",\n",
        "    api_version = \"2024-02-15-preview\",\n",
        "    deployment_name = \"gpt-4o-mini\",\n",
        "    max_retries = 0\n",
        ")"
      ],
      "metadata": {
        "id": "jTHbM9Pbjmra"
      },
      "execution_count": 14,
      "outputs": []
    },
    {
      "cell_type": "markdown",
      "source": [
        "## Funções de ajuda"
      ],
      "metadata": {
        "id": "NHxgz552oQ-Z"
      }
    },
    {
      "cell_type": "code",
      "source": [
        "def traduzir_artigo(texto, linguagem):\n",
        "  messages = [\n",
        "      (\"system\", \"Você atua como tradutor de textos\"),\n",
        "      (\"user\", f\"Traduza o {texto} para o idioma {linguagem} e responda em markdown\")\n",
        "  ]\n",
        "\n",
        "  response = client_azure_openai.invoke(messages)\n",
        "  return response.content"
      ],
      "metadata": {
        "id": "hdaMiRP8oPTN"
      },
      "execution_count": 15,
      "outputs": []
    },
    {
      "cell_type": "markdown",
      "source": [
        "## Testando:"
      ],
      "metadata": {
        "id": "bHu-0OVCo6AA"
      }
    },
    {
      "cell_type": "code",
      "source": [
        "print(f'Original: Start by connecting your router to your modem using an Ethernet cable.')\n",
        "print(f\"Traduzido: {traduzir_artigo('Start by connecting your router to your modem using an Ethernet cable.', 'pt-br')}\")"
      ],
      "metadata": {
        "colab": {
          "base_uri": "https://localhost:8080/"
        },
        "id": "S9aRdwDloyVd",
        "outputId": "2bcdd448-8faa-465d-cc2c-4f0f7acbecb6"
      },
      "execution_count": 16,
      "outputs": [
        {
          "output_type": "stream",
          "name": "stdout",
          "text": [
            "Original: Start by connecting your router to your modem using an Ethernet cable.\n",
            "Traduzido: Comece conectando seu roteador ao seu modem usando um cabo Ethernet.\n"
          ]
        }
      ]
    },
    {
      "cell_type": "markdown",
      "source": [
        "## Testando com URL"
      ],
      "metadata": {
        "id": "cJhPXpIashTZ"
      }
    },
    {
      "cell_type": "code",
      "source": [
        "url = \"https://dev.to/willvelida/building-your-network-in-the-cloud-a-beginners-guide-to-azure-virtual-networks-4h49\""
      ],
      "metadata": {
        "id": "3GnFYRHMo-zv"
      },
      "execution_count": 17,
      "outputs": []
    },
    {
      "cell_type": "code",
      "source": [
        "texto_ingles = extrair_texto_url(url)\n",
        "texto_traduzido = traduzir_artigo(texto_ingles, 'pt-br')"
      ],
      "metadata": {
        "id": "RTRi6xW_sn-i"
      },
      "execution_count": 18,
      "outputs": []
    },
    {
      "cell_type": "markdown",
      "source": [
        "Texto original:"
      ],
      "metadata": {
        "id": "3Sp8UcLis9dq"
      }
    },
    {
      "cell_type": "code",
      "source": [
        "print(texto_ingles)"
      ],
      "metadata": {
        "colab": {
          "base_uri": "https://localhost:8080/"
        },
        "id": "tEQVrSptsz1p",
        "outputId": "991ebd3e-ccfa-4048-a8a3-67fc6fc78527"
      },
      "execution_count": 19,
      "outputs": [
        {
          "output_type": "stream",
          "name": "stdout",
          "text": [
            "Posted on  Apr 30, 2023\n",
            "As you look to move workloads to the cloud, it's important to have a secure and scalable network infrastructure that can support your applications. In Azure, this is where virtual networks come in.\n",
            "Virtual networks (VNet for short) are the fundamental building block for your private network in Azure. They enable many types of Azure resources to communicate with each other, the internet and on-prem networks securely. You can also use VNets to filter and route network traffic.\n",
            "In this blog post, I'll start by talking about why we would use virtual networks and how we can plan our virtual networks to ensure they will support our architecture in Azure. I'll then show you how to create a basic virtual network using Bicep, before showing you how we can integrate Azure resources in a virtual network, using Azure Functions as an example.\n",
            "Let's dive in!\n",
            "As I mentioned earlier, virtual networks enable Azure resources to communicate with other Azure resources, the internet and on-prem networks securely.\n",
            "By default, all of our resources within a VNet can communicate outbound to the internet. If we assign a public IP address or use a public Load balancer, we can communicate inbound to a resource.\n",
            "Securely communicating with other Azure resources can be achieved in the following ways:\n",
            "When it comes to communicating with on-prem networks, we can use Point-to-site VPNs to establish a link between a virtual network and a single computer in our on-prem network; Site-to-site VPN, which establishes links between on-prem VPN devices and an Azure VPN Gateway deployed in the virtual network and Azure ExpressRoute, which establishes private connections (meaning that traffic does not go over the internet) between your on-prem network and Azure through ExpressRoute partners.\n",
            "Subnets in virtual networks allows you to implement logicial divisions in your VNet, which improves security and makes your virtual network more manageable. Each subnet contains a range of IP address that fall within the address space of your virtual network, and it must be unique within that address space. You can't overlap the range of one subnet with other subnet IP address in the same VNet and the IP address space for a subnet must be specified by using CIDR notation.\n",
            "Azure will reserve 5 IP addresses for each subnet (the first four addresses and the last address). Taking the IP address range of 192.168.1.0/24 as an example, these addresses will be reserved by Azure:\n",
            "We can filter traffic between subnets by using  Network Security Groups (NSGs) , which contain multiple inbound and outbound security rules that enable you to filter traffic to and from resources by IP addresses, port and protocol, and  Network Virtual appliances , which is a VM that performs a network function (such as a firewall).\n",
            "You can use custom route tables to control where traffic is routed to for each subnet, and border gateway protocols to propagate your on-prem BGP routes to your virtual networks in Azure.\n",
            "In the real world, you'll probably deploy various virtual networks to support your application workloads. This will require planning to ensure that your resources can connect with each other effectively and securely.\n",
            "Virtual networks can be used in various different scenarios:\n",
            "You'll also need to consider what topology you'll need for your virtual network. There's a variety of different options which I'll save the details for in another blog post, but some options include:\n",
            "I've deliberately left out copious amounts of details for the purposes of this article. It's important for me to stress that you'll need to give some careful consideration around planning your virtual networks to ensure that it suits the requirements of your architecture. That said, please take at the following resources when planning your virtual network:\n",
            "It's also importnant to plan your IP addresses in Azure. This will ensure that you don't overlap IP address space in Azure with on-prem locations, as this will create major contention issues.\n",
            "You can assign IP addresses to Azure resources to communicate with other resources in Azure, your on-prem network and the internet.\n",
            "Public IP address allow your resources in Azure to communicate with the internet. Private IP address enabloe communication within a VNet and your on-prem network. IP address can be statically or dynamically assigned and you can seperate these resources into different subnets.\n",
            "Again, I've kept this brief for simplicity. For more information, check out the following:\n",
            "Provisioning a basic virtual network with a subnet in Bicep is pretty straightforward. Take a look at the following Bicep code:\n",
            "Here, we have a resource for our virtual network that reserves a list of address blocks with the CIDR range of 10.0.0.0/16. We also have a subnet with an address prefix of 10.0.0.0/24. We can verify the address space of our VNet by looking in the portal:\n",
            "We can also verify that our subnet has been created successfully with the address space that we defined, along with the address range that the subnet has been allocated:\n",
            "Creating a basic virtual network is simple enough, but it's better to illustrate an example of integrating a resource with our virtual network.\n",
            "For this, we'll deploy an Azure Function Premium plan and integrate with out virtual network. Take a look at the following:\n",
            "There's a lot going on here, so let's focus on the important stuff:\n",
            "For our subnet, we're injecting our Function app into our virtual network by delegating the  Microsoft.Web/serverFarms  service into our subnet. Subnet delegation enables us to designate a specific subnet for an Azure PaaS service that needs to be injected into the virtual network. When we do this, we allow that service to establish basic network configuration rules for that specific subnet which allow the service to work properly.\n",
            "In our network config resource, we use the subnet resource id to indicate that this is the subnet that our function app will join. We have to make sure that the subnet that we join the function app to already has the  Microsoft.Web/serverFarms  delegation defined first.\n",
            "Our full Bicep template will deploy the following resources shown in the diagram below:\n",
            "There's a lot more we can do to secure our Azure Function resources (for example, putting private endpoints on our Storage account). But for now, this is good enough.\n",
            "Now if we take a look at our subnet, we can see that the  Microsoft.Web/serverFarms  delegation has been applied.\n",
            "Looking at our virtual network, we can see that our new function app is using the virtual network\n",
            "Within our function app, we can also verify that it's been integrated with our subnet, securing our outbound traffic.\n",
            "In this blog post, we talked about why we would use virtual networks and how we can plan our virtual networks to ensure they'll support our architecture in Azure. We finished by creating a basic virtual network using Bicep, and integrated an Azure function in it.\n",
            "Hopefully this has given you a gentle introduction into virtual networks in Azure, the different scenarios on how we would use virtual networks to support our applications and how we can plan our virtual networks.\n",
            "As always, if you have any questions, feel free to reach out to me on twitter  @willvelida\n",
            "Until next time, Happy coding! 🤓🖥️\n",
            "Templates let you quickly answer FAQs or store snippets for re-use.\n",
            "Are you sure you want to hide this comment? It will become hidden in your post, but will still be visible via the comment's  permalink .\n",
            "Hide child comments as well\n",
            "Confirm\n",
            "For further actions, you may consider blocking this person and/or  reporting abuse\n"
          ]
        }
      ]
    },
    {
      "cell_type": "markdown",
      "source": [
        "Texto traduzido:"
      ],
      "metadata": {
        "id": "6WxfrRoNtEGq"
      }
    },
    {
      "cell_type": "code",
      "source": [
        "print(texto_traduzido)"
      ],
      "metadata": {
        "colab": {
          "base_uri": "https://localhost:8080/"
        },
        "id": "lX5PqJFbtB0r",
        "outputId": "154e5fcf-a955-43c0-c0e2-ddd7e7aa4236"
      },
      "execution_count": 20,
      "outputs": [
        {
          "output_type": "stream",
          "name": "stdout",
          "text": [
            "### Publicado em 30 de abril de 2023\n",
            "\n",
            "À medida que você busca mover cargas de trabalho para a nuvem, é importante ter uma infraestrutura de rede segura e escalável que possa suportar suas aplicações. No Azure, é aqui que as redes virtuais entram em cena.\n",
            "\n",
            "As redes virtuais (VNet, para abreviar) são o bloco de construção fundamental para sua rede privada no Azure. Elas permitem que muitos tipos de recursos do Azure se comuniquem entre si, com a internet e com redes locais de forma segura. Você também pode usar VNets para filtrar e direcionar o tráfego da rede.\n",
            "\n",
            "Neste post do blog, começarei falando sobre por que usar redes virtuais e como podemos planejar nossas redes virtuais para garantir que elas suportem nossa arquitetura no Azure. Em seguida, mostrarei como criar uma rede virtual básica usando Bicep, antes de demonstrar como podemos integrar recursos do Azure em uma rede virtual, usando Azure Functions como exemplo.\n",
            "\n",
            "Vamos lá!\n",
            "\n",
            "Como mencionei anteriormente, as redes virtuais permitem que os recursos do Azure se comuniquem com outros recursos do Azure, com a internet e com redes locais de forma segura. Por padrão, todos os nossos recursos dentro de uma VNet podem se comunicar para fora, em direção à internet. Se atribuirmos um endereço IP público ou usarmos um balanceador de carga público, podemos nos comunicar com um recurso.\n",
            "\n",
            "A comunicação segura com outros recursos do Azure pode ser alcançada das seguintes maneiras:\n",
            "- Para se comunicar com redes locais, podemos usar VPNs ponto-a-site para estabelecer um link entre uma rede virtual e um único computador em nossa rede local; VPNs site-a-site, que estabelecem links entre dispositivos VPN locais e um Gateway VPN do Azure implantado na rede virtual; e Azure ExpressRoute, que estabelece conexões privadas (significando que o tráfego não passa pela internet) entre sua rede local e o Azure através de parceiros do ExpressRoute.\n",
            "\n",
            "As sub-redes em redes virtuais permitem que você implemente divisões lógicas em sua VNet, o que melhora a segurança e torna sua rede virtual mais gerenciável. Cada sub-rede contém um intervalo de endereços IP que se enquadra no espaço de endereços de sua rede virtual, e deve ser único dentro desse espaço de endereços. Você não pode sobrepor o intervalo de uma sub-rede com endereços IP de outra sub-rede na mesma VNet, e o espaço de endereços para uma sub-rede deve ser especificado usando a notação CIDR.\n",
            "\n",
            "O Azure reservará 5 endereços IP para cada sub-rede (os primeiros quatro endereços e o último endereço). Tomando o intervalo de endereços IP 192.168.1.0/24 como exemplo, esses endereços serão reservados pelo Azure:\n",
            "\n",
            "Podemos filtrar o tráfego entre sub-redes usando Grupos de Segurança de Rede (NSGs), que contêm várias regras de segurança de entrada e saída que permitem filtrar tráfego para e de recursos por endereços IP, porta e protocolo, e Appliances Virtuais de Rede, que são VMs que desempenham uma função de rede (como um firewall).\n",
            "\n",
            "Você pode usar tabelas de rotas personalizadas para controlar para onde o tráfego é direcionado em cada sub-rede, e protocolos de gateway de borda para propagar suas rotas BGP locais para suas redes virtuais no Azure.\n",
            "\n",
            "No mundo real, você provavelmente implantará várias redes virtuais para suportar suas cargas de trabalho de aplicação. Isso exigirá planejamento para garantir que seus recursos possam se conectar de forma eficaz e segura.\n",
            "\n",
            "As redes virtuais podem ser usadas em vários cenários diferentes:\n",
            "Você também precisará considerar qual topologia precisará para sua rede virtual. Existem várias opções diferentes, que deixarei para detalhar em outro post do blog, mas algumas opções incluem:\n",
            "\n",
            "Deixei deliberadamente de fora uma quantidade considerável de detalhes para os propósitos deste artigo. É importante enfatizar que você precisará considerar cuidadosamente o planejamento de suas redes virtuais para garantir que atenda aos requisitos de sua arquitetura. Dito isso, por favor, consulte os seguintes recursos ao planejar sua rede virtual:\n",
            "\n",
            "Também é importante planejar seus endereços IP no Azure. Isso garantirá que você não sobreponha o espaço de endereços IP no Azure com locais locais, pois isso criará grandes problemas de contenção.\n",
            "\n",
            "Você pode atribuir endereços IP a recursos do Azure para se comunicar com outros recursos no Azure, sua rede local e a internet. Endereços IP públicos permitem que seus recursos no Azure se comuniquem com a internet. Endereços IP privados permitem comunicação dentro de uma VNet e com sua rede local. Os endereços IP podem ser atribuídos estaticamente ou dinamicamente e você pode separar esses recursos em diferentes sub-redes.\n",
            "\n",
            "Novamente, mantive isso breve por simplicidade. Para mais informações, confira o seguinte:\n",
            "\n",
            "Provisionar uma rede virtual básica com uma sub-rede em Bicep é bastante simples. Veja o seguinte código Bicep:\n",
            "\n",
            "Aqui, temos um recurso para nossa rede virtual que reserva uma lista de blocos de endereços com o intervalo CIDR de 10.0.0.0/16. Também temos uma sub-rede com um prefixo de endereço de 10.0.0.0/24. Podemos verificar o espaço de endereços de nossa VNet olhando no portal:\n",
            "\n",
            "Também podemos verificar se nossa sub-rede foi criada com sucesso com o espaço de endereços que definimos, juntamente com o intervalo de endereços que a sub-rede foi alocada:\n",
            "\n",
            "Criar uma rede virtual básica é simples o suficiente, mas é melhor ilustrar um exemplo de integração de um recurso com nossa rede virtual.\n",
            "\n",
            "Para isso, vamos implantar um plano Premium do Azure Function e integrá-lo à nossa rede virtual. Veja o seguinte:\n",
            "\n",
            "Está acontecendo muita coisa aqui, então vamos focar nas partes importantes:\n",
            "\n",
            "Para nossa sub-rede, estamos injetando nosso aplicativo Function em nossa rede virtual, delegando o serviço Microsoft.Web/serverFarms em nossa sub-rede. A delegação de sub-rede nos permite designar uma sub-rede específica para um serviço PaaS do Azure que precisa ser injetado na rede virtual. Quando fazemos isso, permitimos que esse serviço estabeleça regras básicas de configuração de rede para essa sub-rede específica, permitindo que o serviço funcione corretamente.\n",
            "\n",
            "Em nosso recurso de configuração de rede, usamos o id do recurso da sub-rede para indicar que esta é a sub-rede que nosso aplicativo Function irá se juntar. Temos que garantir que a sub-rede à qual juntamos o aplicativo Function já tenha a delegação Microsoft.Web/serverFarms definida.\n",
            "\n",
            "Nosso template completo de Bicep implantará os seguintes recursos mostrados no diagrama abaixo:\n",
            "\n",
            "Há muito mais que podemos fazer para proteger nossos recursos do Azure Function (por exemplo, colocando pontos finais privados em nossa conta de Armazenamento). Mas por enquanto, isso é bom o suficiente.\n",
            "\n",
            "Agora, se olharmos nossa sub-rede, podemos ver que a delegação Microsoft.Web/serverFarms foi aplicada.\n",
            "\n",
            "Olhando para nossa rede virtual, podemos ver que nosso novo aplicativo Function está usando a rede virtual.\n",
            "\n",
            "Dentro do nosso aplicativo Function, também podemos verificar que ele foi integrado à nossa sub-rede, assegurando nosso tráfego de saída.\n",
            "\n",
            "Neste post do blog, falamos sobre por que usar redes virtuais e como podemos planejar nossas redes virtuais para garantir que suportem nossa arquitetura no Azure. Terminamos criando uma rede virtual básica usando Bicep e integrando uma função do Azure nela.\n",
            "\n",
            "Espero que isso tenha dado uma introdução suave às redes virtuais no Azure, os diferentes cenários de como usar redes virtuais para suportar nossas aplicações e como podemos planejar nossas redes virtuais.\n",
            "\n",
            "Como sempre, se você tiver alguma dúvida, sinta-se à vontade para me contatar no Twitter @willvelida.\n",
            "\n",
            "Até a próxima, boas codificações! 🤓🖥️\n"
          ]
        }
      ]
    }
  ]
}